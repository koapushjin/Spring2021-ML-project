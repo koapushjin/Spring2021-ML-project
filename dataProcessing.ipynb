{
 "cells": [
  {
   "cell_type": "code",
   "execution_count": 1,
   "metadata": {},
   "outputs": [
    {
     "name": "stderr",
     "output_type": "stream",
     "text": [
      "/Users/jyoti/opt/anaconda3/lib/python3.8/site-packages/setuptools/distutils_patch.py:25: UserWarning: Distutils was imported before Setuptools. This usage is discouraged and may exhibit undesirable behaviors or errors. Please use Setuptools' objects directly or at least import Setuptools first.\n",
      "  warnings.warn(\n",
      "Paddle enabled successfully......\n",
      "2021-05-13 00:04:59,643 - DEBUG - Paddle enabled successfully......\n"
     ]
    }
   ],
   "source": [
    "import jieba\n",
    "import paddle\n",
    "import re\n",
    "import pandas as pd\n",
    "import time\n",
    "\n",
    "paddle.enable_static()\n",
    "# jieba.enable_parallel(8)\n",
    "jieba.enable_paddle()# 启动paddle模式。 0.40版之后开始支持，早期版本不支持\n",
    "\n",
    "\n",
    "# strs=[\"我来到北京清华大学\",\"乒乓球拍卖完了\",\"中国科学技术大学\"]\n",
    "# for str in strs:\n",
    "#     seg_list = jieba.cut(str,use_paddle=True) # 使用paddle模式\n",
    "#     print(\"Paddle Mode: \" + '/'.join(list(seg_list)))\n",
    "\n",
    "# seg_list = jieba.cut(\"我来到北京清华大学\", cut_all=True)\n",
    "# print(\"Full Mode: \" + \"/ \".join(seg_list))  # 全模式\n",
    "\n",
    "# seg_list = jieba.cut(\"我来到北京清华大学\", cut_all=False)\n",
    "# print(\"Default Mode: \" + \"/ \".join(seg_list))  # 精确模式\n",
    "\n",
    "# seg_list = jieba.cut(\"他来到了网易杭研大厦\")  # 默认是精确模式\n",
    "# print(\", \".join(seg_list))\n",
    "\n",
    "# seg_list = jieba.cut_for_search(\"小明硕士毕业于中国科学院计算所，后在日本京都大学深造\")  # 搜索引擎模式\n",
    "# print(\", \".join(seg_list))\n",
    "\n"
   ]
  },
  {
   "cell_type": "code",
   "execution_count": 2,
   "metadata": {},
   "outputs": [
    {
     "data": {
      "text/html": [
       "<div>\n",
       "<style scoped>\n",
       "    .dataframe tbody tr th:only-of-type {\n",
       "        vertical-align: middle;\n",
       "    }\n",
       "\n",
       "    .dataframe tbody tr th {\n",
       "        vertical-align: top;\n",
       "    }\n",
       "\n",
       "    .dataframe thead th {\n",
       "        text-align: right;\n",
       "    }\n",
       "</style>\n",
       "<table border=\"1\" class=\"dataframe\">\n",
       "  <thead>\n",
       "    <tr style=\"text-align: right;\">\n",
       "      <th></th>\n",
       "      <th>微博正文</th>\n",
       "      <th>点赞数</th>\n",
       "      <th>转发数</th>\n",
       "      <th>评论数</th>\n",
       "    </tr>\n",
       "  </thead>\n",
       "  <tbody>\n",
       "    <tr>\n",
       "      <th>0</th>\n",
       "      <td>【#黑猩猩酷爱洗衣服被评劳模#，网友：比我男朋友还勤快】4月30日，重庆一主题公园，一只黑猩...</td>\n",
       "      <td>735</td>\n",
       "      <td>61</td>\n",
       "      <td>142</td>\n",
       "    </tr>\n",
       "    <tr>\n",
       "      <th>1</th>\n",
       "      <td>【#劳动节版你笑起来真好看#】生活中，哪一种笑最打动人？今天，向劳动者致敬！#让劳动者上热搜...</td>\n",
       "      <td>1958</td>\n",
       "      <td>292</td>\n",
       "      <td>268</td>\n",
       "    </tr>\n",
       "    <tr>\n",
       "      <th>2</th>\n",
       "      <td>【周知！#多部门发布五一假期提示#】①#五一期间仍可接种疫苗#，全国疫苗接种工作“不打烊”；...</td>\n",
       "      <td>1068</td>\n",
       "      <td>211</td>\n",
       "      <td>206</td>\n",
       "    </tr>\n",
       "    <tr>\n",
       "      <th>3</th>\n",
       "      <td>【#江苏南通大风致11死102伤#】据@南通发布，4月30日18时至22时，江苏南通部分地区...</td>\n",
       "      <td>42295</td>\n",
       "      <td>2445</td>\n",
       "      <td>2887</td>\n",
       "    </tr>\n",
       "    <tr>\n",
       "      <th>4</th>\n",
       "      <td>【正在直播：#与一线劳动者一起现场作业#】5月1日，国际劳动节，@人民日报 联合天目新闻，多...</td>\n",
       "      <td>4121</td>\n",
       "      <td>157</td>\n",
       "      <td>404</td>\n",
       "    </tr>\n",
       "  </tbody>\n",
       "</table>\n",
       "</div>"
      ],
      "text/plain": [
       "                                                微博正文    点赞数   转发数   评论数\n",
       "0  【#黑猩猩酷爱洗衣服被评劳模#，网友：比我男朋友还勤快】4月30日，重庆一主题公园，一只黑猩...    735    61   142\n",
       "1  【#劳动节版你笑起来真好看#】生活中，哪一种笑最打动人？今天，向劳动者致敬！#让劳动者上热搜...   1958   292   268\n",
       "2  【周知！#多部门发布五一假期提示#】①#五一期间仍可接种疫苗#，全国疫苗接种工作“不打烊”；...   1068   211   206\n",
       "3  【#江苏南通大风致11死102伤#】据@南通发布，4月30日18时至22时，江苏南通部分地区...  42295  2445  2887\n",
       "4  【正在直播：#与一线劳动者一起现场作业#】5月1日，国际劳动节，@人民日报 联合天目新闻，多...   4121   157   404"
      ]
     },
     "execution_count": 2,
     "metadata": {},
     "output_type": "execute_result"
    }
   ],
   "source": [
    "df = pd.read_csv(\"/Users/jyoti/weiboSpider/weibo/人民日报/2803301701.csv\",usecols=[\"微博正文\",\"点赞数\",\"评论数\",\"转发数\"])\n",
    "df.head()"
   ]
  },
  {
   "cell_type": "code",
   "execution_count": 3,
   "metadata": {},
   "outputs": [
    {
     "data": {
      "text/html": [
       "<div>\n",
       "<style scoped>\n",
       "    .dataframe tbody tr th:only-of-type {\n",
       "        vertical-align: middle;\n",
       "    }\n",
       "\n",
       "    .dataframe tbody tr th {\n",
       "        vertical-align: top;\n",
       "    }\n",
       "\n",
       "    .dataframe thead th {\n",
       "        text-align: right;\n",
       "    }\n",
       "</style>\n",
       "<table border=\"1\" class=\"dataframe\">\n",
       "  <thead>\n",
       "    <tr style=\"text-align: right;\">\n",
       "      <th></th>\n",
       "      <th>text</th>\n",
       "      <th>like</th>\n",
       "      <th>forward</th>\n",
       "      <th>comment</th>\n",
       "    </tr>\n",
       "  </thead>\n",
       "  <tbody>\n",
       "    <tr>\n",
       "      <th>0</th>\n",
       "      <td>【#黑猩猩酷爱洗衣服被评劳模#，网友：比我男朋友还勤快】4月30日，重庆一主题公园，一只黑猩...</td>\n",
       "      <td>735</td>\n",
       "      <td>61</td>\n",
       "      <td>142</td>\n",
       "    </tr>\n",
       "    <tr>\n",
       "      <th>1</th>\n",
       "      <td>【#劳动节版你笑起来真好看#】生活中，哪一种笑最打动人？今天，向劳动者致敬！#让劳动者上热搜...</td>\n",
       "      <td>1958</td>\n",
       "      <td>292</td>\n",
       "      <td>268</td>\n",
       "    </tr>\n",
       "    <tr>\n",
       "      <th>2</th>\n",
       "      <td>【周知！#多部门发布五一假期提示#】①#五一期间仍可接种疫苗#，全国疫苗接种工作“不打烊”；...</td>\n",
       "      <td>1068</td>\n",
       "      <td>211</td>\n",
       "      <td>206</td>\n",
       "    </tr>\n",
       "    <tr>\n",
       "      <th>3</th>\n",
       "      <td>【#江苏南通大风致11死102伤#】据@南通发布，4月30日18时至22时，江苏南通部分地区...</td>\n",
       "      <td>42295</td>\n",
       "      <td>2445</td>\n",
       "      <td>2887</td>\n",
       "    </tr>\n",
       "    <tr>\n",
       "      <th>4</th>\n",
       "      <td>【正在直播：#与一线劳动者一起现场作业#】5月1日，国际劳动节，@人民日报 联合天目新闻，多...</td>\n",
       "      <td>4121</td>\n",
       "      <td>157</td>\n",
       "      <td>404</td>\n",
       "    </tr>\n",
       "  </tbody>\n",
       "</table>\n",
       "</div>"
      ],
      "text/plain": [
       "                                                text   like forward comment\n",
       "0  【#黑猩猩酷爱洗衣服被评劳模#，网友：比我男朋友还勤快】4月30日，重庆一主题公园，一只黑猩...    735      61     142\n",
       "1  【#劳动节版你笑起来真好看#】生活中，哪一种笑最打动人？今天，向劳动者致敬！#让劳动者上热搜...   1958     292     268\n",
       "2  【周知！#多部门发布五一假期提示#】①#五一期间仍可接种疫苗#，全国疫苗接种工作“不打烊”；...   1068     211     206\n",
       "3  【#江苏南通大风致11死102伤#】据@南通发布，4月30日18时至22时，江苏南通部分地区...  42295    2445    2887\n",
       "4  【正在直播：#与一线劳动者一起现场作业#】5月1日，国际劳动节，@人民日报 联合天目新闻，多...   4121     157     404"
      ]
     },
     "execution_count": 3,
     "metadata": {},
     "output_type": "execute_result"
    }
   ],
   "source": [
    "df = df.rename(columns = {'微博正文':'text', '点赞数':'like', '评论数':'comment','转发数':'forward'}, inplace=False)\n",
    "df.head()"
   ]
  },
  {
   "cell_type": "code",
   "execution_count": 14,
   "metadata": {},
   "outputs": [],
   "source": [
    "# paddle.enable_static()\n",
    "# jieba.enable_paddle()\n",
    "\n",
    "# stopwords = []\n",
    "# with open('stopwords.txt') as file:\n",
    "#     for i in file:\n",
    "#         stopwords.append(i.strip('\\n'))\n",
    "\n",
    "# cutwordslist = []\n",
    "# text_list = df.text.to_list()\n",
    "# for line in text_list:\n",
    "#     cutwordslist.append([word for word in jieba.cut(line, use_paddle=True) if word not in stopwords])\n",
    "    \n",
    "# print(cutwordslist[:5]) #[[words of text1], [words of text2], ...]"
   ]
  },
  {
   "cell_type": "code",
   "execution_count": 4,
   "metadata": {},
   "outputs": [
    {
     "name": "stderr",
     "output_type": "stream",
     "text": [
      "<>:19: DeprecationWarning: invalid escape sequence \\w\n",
      "<ipython-input-4-d1ea1273e49b>:19: DeprecationWarning: invalid escape sequence \\w\n",
      "  if re.match('[\\w]', i):\n",
      "Paddle enabled successfully......\n",
      "2021-05-13 00:05:23,367 - DEBUG - Paddle enabled successfully......\n"
     ]
    },
    {
     "name": "stdout",
     "output_type": "stream",
     "text": [
      "time: 25.127901315689087\n",
      "['黑猩猩', '酷爱', '洗衣服', '评', '劳模', '网友', '男朋友', '勤快', '4月30日', '重庆', '主题公园', '一只', '黑猩猩', '酷爱', '洗衣服', '评为', '动物界', '劳模', '名叫', '渝辉', '黑猩猩', '每次', '看到', '饲养员', '洗衣服', '十分', '兴奋', '爱', '看书', '看报', '网友', '称为', '暖男', '公园', '颁发', '定制', '版', '荣誉', '证书', '准备', '丰厚', '美食', '时间', '视频', '微博', '视频']\n",
      "['劳动节', '版', '笑起来', '真好看', '生活', '中', '一种', '笑', '打动', '今天', '劳动者', '致敬', '劳动者', '热', '搜', '人民日报', '微博', '视频']\n",
      "['周知多', '部门', '发布', '五一', '假期', '提示', '①', '五一', '期间', '仍可', '接种', '疫苗', '全国', '疫苗', '接种', '工作', '打烊', '②', '乘坐', '公共交通', '全程', '佩戴', '口罩', '③', '五一', '假期', '景区', '全面', '实施', '门票', '预约制', '④', '提倡', '错峰', '出行', '提前', '做好', '行程', '规划', '⑤', '旅行', '中', '出现', '健康', '异常', '就地', '诊治', '五一', '假期', '9个', '健康', '提示', '转给', '关心', 'TA', '组图', '共', '9张', '原图']\n",
      "['江苏', '南通', '大风', '11', '死', '102', '伤', '南通', '发布', '4月30日18时至22时', '江苏', '南通', '部分', '地区', '出现', '冰雹', '范围', '强', '雷暴', '大风', '天气', '目前', '受灾', '人口', '3000余', '大树', '倒伏', '砸', '倒', '房屋', '电线杆', '刮断', '狂风', '巻入', '河道', '原因', '造成', '11', '死亡', '灾', '受伤', '人口', '102', '苏海门渔01728', '倾覆', '11名', '船员', '落水', '成功', '获救', '紧张', '搜救', '中', '江苏', '新闻', '微博', '视频']\n",
      "['正在', '直播', '一线', '劳动者', '一起', '现场', '作业', '5月1日', '国际劳动节人民日报联合天目', '新闻', '多路', '联动', '铁路', '维修工', '黄山风景区', '挑夫公路', '养护', '人员', '一起', '现场', '作业', '不同', '工种', '一线', '劳动者', '致敬', '戳', '直播', '劳动者', '热', '搜', '人民日报', '微博', '视频']\n"
     ]
    }
   ],
   "source": [
    "paddle.enable_static()\n",
    "jieba.enable_paddle()\n",
    "\n",
    "start = time.time()\n",
    "\n",
    "\n",
    "stopwords = []\n",
    "with open('stopwords.txt') as file:\n",
    "    for i in file:\n",
    "        stopwords.append(i.strip('\\n'))\n",
    "\n",
    "cutwordslist = []\n",
    "text_list = df.text.to_list()\n",
    "\n",
    "for line in text_list:\n",
    "    linelis = list(line)\n",
    "    newlis = []\n",
    "    for i in linelis:\n",
    "        if re.match('[\\w]', i):\n",
    "            newlis.append(i)\n",
    "        else:\n",
    "            newlis.append('')\n",
    "    newline = ''.join(newlis)\n",
    "    \n",
    "    cutwordslist.append([word for word in jieba.cut(newline, use_paddle=True) if word not in stopwords])\n",
    "#     cutwordslist.append([word for word in jieba.cut(newline) if word not in stopwords])\n",
    "    \n",
    "\n",
    "end = time.time()\n",
    "print('time:',end - start)\n",
    "\n",
    "print(cutwordslist[0]) #[[words of text1], [words of text2], ...]\n",
    "print(cutwordslist[1]) #[[words of text1], [words of text2], ...]\n",
    "print(cutwordslist[2]) #[[words of text1], [words of text2], ...]\n",
    "print(cutwordslist[3]) #[[words of text1], [words of text2], ...]\n",
    "print(cutwordslist[4]) #[[words of text1], [words of text2], ...]"
   ]
  },
  {
   "cell_type": "code",
   "execution_count": 5,
   "metadata": {},
   "outputs": [],
   "source": [
    "import jieba.analyse"
   ]
  },
  {
   "cell_type": "code",
   "execution_count": 6,
   "metadata": {},
   "outputs": [
    {
     "ename": "NameError",
     "evalue": "name 'text' is not defined",
     "output_type": "error",
     "traceback": [
      "\u001b[0;31m---------------------------------------------------------------------------\u001b[0m",
      "\u001b[0;31mNameError\u001b[0m                                 Traceback (most recent call last)",
      "\u001b[0;32m<ipython-input-6-8e95ae5ee302>\u001b[0m in \u001b[0;36m<module>\u001b[0;34m\u001b[0m\n\u001b[0;32m----> 1\u001b[0;31m \u001b[0mkeywords\u001b[0m\u001b[0;34m=\u001b[0m\u001b[0mjieba\u001b[0m\u001b[0;34m.\u001b[0m\u001b[0manalyse\u001b[0m\u001b[0;34m.\u001b[0m\u001b[0mextract_tags\u001b[0m\u001b[0;34m(\u001b[0m\u001b[0mtext\u001b[0m\u001b[0;34m,\u001b[0m \u001b[0mtopK\u001b[0m\u001b[0;34m=\u001b[0m\u001b[0;36m5\u001b[0m\u001b[0;34m,\u001b[0m \u001b[0mwithWeight\u001b[0m\u001b[0;34m=\u001b[0m\u001b[0;32mFalse\u001b[0m\u001b[0;34m,\u001b[0m \u001b[0mallowPOS\u001b[0m\u001b[0;34m=\u001b[0m\u001b[0;34m(\u001b[0m\u001b[0;34m)\u001b[0m\u001b[0;34m)\u001b[0m\u001b[0;34m\u001b[0m\u001b[0;34m\u001b[0m\u001b[0m\n\u001b[0m\u001b[1;32m      2\u001b[0m \u001b[0mprint\u001b[0m\u001b[0;34m(\u001b[0m\u001b[0mkeywords\u001b[0m\u001b[0;34m)\u001b[0m\u001b[0;34m\u001b[0m\u001b[0;34m\u001b[0m\u001b[0m\n",
      "\u001b[0;31mNameError\u001b[0m: name 'text' is not defined"
     ]
    }
   ],
   "source": [
    "keywords=jieba.analyse.extract_tags(text, topK=5, withWeight=False, allowPOS=())\n",
    "print(keywords)"
   ]
  },
  {
   "cell_type": "code",
   "execution_count": 7,
   "metadata": {},
   "outputs": [],
   "source": [
    "text = \"【#黑猩猩酷爱洗衣服被评劳模#，网友：比我男朋友还勤快】4月30日，重庆一主题公园，一只黑猩猩因酷爱洗衣服被评为“动物界劳模”。这只名叫渝辉的黑猩猩每次看到饲养员洗衣服都十分兴奋，还爱看书看报，被网友称为“暖男”。公园为它颁发了定制版荣誉证书，还准备了丰厚的美食。时间视频的微博视频\""
   ]
  },
  {
   "cell_type": "code",
   "execution_count": 8,
   "metadata": {},
   "outputs": [
    {
     "name": "stderr",
     "output_type": "stream",
     "text": [
      "Building prefix dict from the default dictionary ...\n",
      "2021-05-08 14:34:04,719 - DEBUG - Building prefix dict from the default dictionary ...\n",
      "Loading model from cache /var/folders/8q/nfh_n0c93q754ws_k9x1nsrm0000gn/T/jieba.cache\n",
      "2021-05-08 14:34:04,722 - DEBUG - Loading model from cache /var/folders/8q/nfh_n0c93q754ws_k9x1nsrm0000gn/T/jieba.cache\n",
      "Loading model cost 0.487 seconds.\n",
      "2021-05-08 14:34:05,207 - DEBUG - Loading model cost 0.487 seconds.\n",
      "Prefix dict has been built successfully.\n",
      "2021-05-08 14:34:05,208 - DEBUG - Prefix dict has been built successfully.\n"
     ]
    },
    {
     "name": "stdout",
     "output_type": "stream",
     "text": [
      "[('黑猩猩', 0.7825884766285713), ('洗衣服', 0.6661404766764287), ('劳模', 0.4576294386109524), ('酷爱', 0.45571163388999997), ('视频', 0.38367301118761904), ('网友', 0.31507346884666665), ('30', 0.28463732149761906), ('渝辉', 0.28463732149761906), ('微博', 0.28463732149761906), ('荣誉证书', 0.2738757709333333), ('被评', 0.2584798860547619), ('看报', 0.24771833548809521), ('饲养员', 0.24086876233571428), ('勤快', 0.23512680860095236), ('主题公园', 0.22981386690309527), ('动物界', 0.22663454803095237), ('美食', 0.21658706207714284), ('男朋友', 0.2129726331992857), ('看书', 0.2059143862840476), ('评为', 0.1981178053807143), ('定制', 0.19776110172309525), ('丰厚', 0.1926080156904762), ('颁发', 0.18407302189238095), ('名叫', 0.1751953736064286), ('公园', 0.1680729089404762), ('每次', 0.1576678264204762), ('兴奋', 0.15695559177238097), ('重庆', 0.15403280897190474), ('一只', 0.13143929322928571), ('称为', 0.11889862649809524)]\n"
     ]
    }
   ],
   "source": [
    "keywords=jieba.analyse.extract_tags(text, topK=30, withWeight=True, allowPOS=())\n",
    "print(keywords)"
   ]
  },
  {
   "cell_type": "code",
   "execution_count": null,
   "metadata": {},
   "outputs": [],
   "source": []
  }
 ],
 "metadata": {
  "kernelspec": {
   "display_name": "Python 3",
   "language": "python",
   "name": "python3"
  },
  "language_info": {
   "codemirror_mode": {
    "name": "ipython",
    "version": 3
   },
   "file_extension": ".py",
   "mimetype": "text/x-python",
   "name": "python",
   "nbconvert_exporter": "python",
   "pygments_lexer": "ipython3",
   "version": "3.8.3"
  }
 },
 "nbformat": 4,
 "nbformat_minor": 4
}
